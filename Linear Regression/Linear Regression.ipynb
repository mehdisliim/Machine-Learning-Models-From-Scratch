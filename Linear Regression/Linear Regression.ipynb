{
 "cells": [
  {
   "cell_type": "markdown",
   "metadata": {},
   "source": [
    "If you don't know what Linear Regression is, I highly recommend this awesome video : https://youtu.be/nk2CQITm_eo , <br>\n",
    "but as a <strong>Big Picture</strong> Linear Regression is just fitting a line into a bunch of data points, a line that best minimizes the residual errors on the whole dataset (the line that gives us the best performance on the training data)\n",
    "<img src='linear_regression_fitted_to_data_with_high_+correlation.PNG' width=700>"
   ]
  },
  {
   "cell_type": "code",
   "execution_count": 1,
   "metadata": {},
   "outputs": [],
   "source": [
    "import numpy as np"
   ]
  },
  {
   "cell_type": "code",
   "execution_count": 2,
   "metadata": {},
   "outputs": [],
   "source": [
    "class LinearRegression(object):\n",
    "    def __init__(self, use_bias= True, normalize=True, regularization=None, iterations=1000, \n",
    "                 learning_rate=.01, l2_ratio=1., l1_ratio=1.):\n",
    "        self.normalize = normalize #normalize the data before training \n",
    "        self.regularization = regularization #choose between l1, l2 regularization if it's none then no regularization will be used \n",
    "        self.__mean, self.__std = None, None #calculated from the training data and applied for each new sample we want to predict\n",
    "        self.use_bias = use_bias #adding the intercept term \n",
    "        self.weights = None #weights, or weights[-1] is the bias\n",
    "        self.iterations= iterations #how many times weights will be updated\n",
    "        self.learning_rate = learning_rate #from the whole step how much you want to go down(low learning rate means you want to go slowly downhill, high learning rate means you gonna go down faster and that generally leads to an overfit and we don't want that)\n",
    "        self.isfitted = False #model not trained otherwise True means the model is trained\n",
    "        self.l2_ratio = l2_ratio #how much the sum of squared weights is going to contribute to the gradients\n",
    "        self.l1_ratio = l1_ratio #how much the sum of absolute value of the weights is going to contribute to the gradients\n",
    "    def fit(self, x, y):\n",
    "        x, y = np.c_[x], np.c_[y] #we change the shape of the two arrays to 2D\n",
    "        def gradients(x, y, weights, reg): #this function will calculate the gradients at each step (dloss/dweights)\n",
    "            if reg == None: #if no regularization then calculate the gradients from the diffrentiated equation of the loss (dmean_squared_error/dweights) \n",
    "                return 1/x.shape[0] * (x.dot(weights.T).reshape(-1, 1) - y).T.dot(x)\n",
    "            elif reg.lower() == 'l2':#if l2 regularization then calculate the gradients from dmean_squared_error/dweights + sum(weights**2)\n",
    "                return 1/x.shape[0] * (x.dot(weights.T).reshape(-1, 1) - y).T.dot(x) + self.l2_ratio*weights**2\n",
    "            elif reg.lower() == 'l1':#if l1 regularization then calculate the gradients from dmean_squared_error/dweights + sum(|weights|)\n",
    "                return 1/x.shape[0] * (x.dot(weights.T).reshape(-1, 1) - y).T.dot(x) + self.l1_ratio*np.abs(weights).sum()\n",
    "        if self.normalize:#if normalization argument is set to True then normalize it\n",
    "            self.__mean = x.mean(axis=0)\n",
    "            self.__std = x.std(axis=0)\n",
    "            x = (x - self.__mean)/self.__std #Z score normalization\n",
    "        if self.use_bias:#if use_bias argument is set to True then number weights equal should be number of features + 1 (for the bias value)\n",
    "            self.weights = np.array(np.random.normal(0, 10, x.shape[1]+1)).reshape(1, -1)\n",
    "            x = np.column_stack([x, np.ones(x.shape[0])])\n",
    "        else:#if use_bias argument is set to False then number of weights should be equal to number of features\n",
    "            self.weights = np.array(np.random.normal(0, 10, x.shape[1])).reshape(1, -1)   \n",
    "            \n",
    "        for i in range(self.iterations):#[Model training part] it's just updating the weights at each step to arrive to the weights that produces the least loss value\n",
    "            self.weights = self.weights - self.learning_rate*gradients(x, y, self.weights, self.regularization)\n",
    "        print('Done!')\n",
    "        self.isfitted = True\n",
    "        \n",
    "    def predict(self, x):#making new predictions\n",
    "        x = np.c_[x]\n",
    "        if self.normalize:\n",
    "            x = (x - self.__mean)/self.__std\n",
    "        if self.use_bias:\n",
    "            x = np.column_stack([x, np.ones(x.shape[0])])\n",
    "        return x.dot(self.weights.T)\n",
    "    \n",
    "    def __str__(self):\n",
    "        return 'LinearRegression(use_bias={}, normalize={}, regularization={}, iterations={}, learning_rate={})\\\n",
    "        '.format(self.use_bias, self.normalize, self.regularization, self.iterations, self.learning_rate)+'\\n isFitted : {}'.format(self.isfitted)\n",
    "                \n",
    "            \n",
    "        \n",
    "        \n",
    "        "
   ]
  },
  {
   "cell_type": "code",
   "execution_count": 3,
   "metadata": {},
   "outputs": [],
   "source": [
    "#Let's Try it :DD"
   ]
  },
  {
   "cell_type": "code",
   "execution_count": 4,
   "metadata": {},
   "outputs": [],
   "source": [
    "x = np.random.normal(0, 100, (100, 1))\n",
    "y = 3*x+2.2\n",
    "#let's add some noise \n",
    "y = y + np.random.randint(0, 100, (100, 1))"
   ]
  },
  {
   "cell_type": "code",
   "execution_count": 5,
   "metadata": {},
   "outputs": [
    {
     "name": "stdout",
     "output_type": "stream",
     "text": [
      "Done!\n"
     ]
    }
   ],
   "source": [
    "LinearR = LinearRegression()\n",
    "LinearR.fit(x, y)"
   ]
  },
  {
   "cell_type": "code",
   "execution_count": 6,
   "metadata": {},
   "outputs": [
    {
     "name": "stdout",
     "output_type": "stream",
     "text": [
      "LinearRegression(use_bias=True, normalize=True, regularization=None, iterations=1000, learning_rate=0.01)        \n",
      " isFitted : True\n"
     ]
    }
   ],
   "source": [
    "print(LinearR)"
   ]
  },
  {
   "cell_type": "code",
   "execution_count": 7,
   "metadata": {
    "scrolled": true
   },
   "outputs": [
    {
     "name": "stdout",
     "output_type": "stream",
     "text": [
      "Value = [[1000]] | Real output : [[3002.2]] | Prediction : [[3042.87224498]]\n",
      "Value = [[500]] | Real output : [[1502.2]] | Prediction : [[1546.59981841]]\n",
      "Value = [[275]] | Real output : [[827.2]] | Prediction : [[873.27722646]]\n",
      "Value = [[211]] | Real output : [[635.2]] | Prediction : [[681.75435586]]\n",
      "Value = [[689]] | Real output : [[2069.2]] | Prediction : [[2112.19079566]]\n",
      "Value = [[812]] | Real output : [[2438.2]] | Prediction : [[2480.27381259]]\n",
      "Value = [[135]] | Real output : [[407.2]] | Prediction : [[454.32094702]]\n",
      "Value = [[353]] | Real output : [[1061.2]] | Prediction : [[1106.695725]]\n"
     ]
    }
   ],
   "source": [
    "#let's give it some values that it never seen, and it should output roughly : 3*given_value+2.2\n",
    "values = [1000, 500, 275, 211, 689, 812, 135, 353]\n",
    "for value in values:\n",
    "    print('Value = [[{}]] | Real output : [[{}]] | Prediction : {}'.format(value, 3*value+2.2, LinearR.predict(value)))\n"
   ]
  },
  {
   "cell_type": "code",
   "execution_count": 8,
   "metadata": {},
   "outputs": [],
   "source": [
    "#the real and prediction values are roughly the same, if we didn't add that noise the results would be whole better"
   ]
  },
  {
   "cell_type": "code",
   "execution_count": 9,
   "metadata": {},
   "outputs": [],
   "source": [
    "import seaborn as sns"
   ]
  },
  {
   "cell_type": "code",
   "execution_count": 10,
   "metadata": {},
   "outputs": [
    {
     "data": {
      "text/plain": [
       "<matplotlib.axes._subplots.AxesSubplot at 0x2ad729ea788>"
      ]
     },
     "execution_count": 10,
     "metadata": {},
     "output_type": "execute_result"
    },
    {
     "data": {
      "image/png": "[encoded data removed]",
      "text/plain": [
       "<Figure size 432x288 with 1 Axes>"
      ]
     },
     "metadata": {
      "needs_background": "light"
     },
     "output_type": "display_data"
    }
   ],
   "source": [
    "sns.scatterplot(x=x.reshape(-1), y=y.reshape(-1))\n",
    "sns.lineplot(x=x.reshape(-1), y=LinearR.predict(x).reshape(-1), color='red')#it did it's job correctly :))"
   ]
  }
 ],
 "metadata": {
  "kernelspec": {
   "display_name": "Python 3",
   "language": "python",
   "name": "python3"
  },
  "language_info": {
   "codemirror_mode": {
    "name": "ipython",
    "version": 3
   },
   "file_extension": ".py",
   "mimetype": "text/x-python",
   "name": "python",
   "nbconvert_exporter": "python",
   "pygments_lexer": "ipython3",
   "version": "3.7.4"
  }
 },
 "nbformat": 4,
 "nbformat_minor": 2
}
